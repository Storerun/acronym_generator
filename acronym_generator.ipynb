{
 "cells": [
  {
   "cell_type": "markdown",
   "id": "fb25117d",
   "metadata": {},
   "source": [
    "## Description\n",
    "This is an acronym generator that produces abbreviations using the first letter of each word in a phrase.\n",
    "The first line of the code uses the input function which allows the user to input whatever phrase they want.\n",
    "Then an empty string is initialized and stored in a varibale called output. Using the string method split to converts the string into a list then  a 'for loop' is used to iterate over the first letter of each word in the list."
   ]
  },
  {
   "cell_type": "code",
   "execution_count": 3,
   "id": "74124851",
   "metadata": {},
   "outputs": [
    {
     "name": "stdout",
     "output_type": "stream",
     "text": [
      "Enter a phrase: bank of ghana\n",
      "BOG\n"
     ]
    }
   ],
   "source": [
    "text= input('Enter a phrase: ')\n",
    "output=''\n",
    "for letter in text.split():\n",
    "    output+= str(letter[0]).upper()\n",
    "print(output)    "
   ]
  },
  {
   "cell_type": "code",
   "execution_count": null,
   "id": "5568e25b",
   "metadata": {},
   "outputs": [],
   "source": []
  },
  {
   "cell_type": "code",
   "execution_count": null,
   "id": "b7e1d9fb",
   "metadata": {},
   "outputs": [],
   "source": []
  }
 ],
 "metadata": {
  "kernelspec": {
   "display_name": "Python 3",
   "language": "python",
   "name": "python3"
  },
  "language_info": {
   "codemirror_mode": {
    "name": "ipython",
    "version": 3
   },
   "file_extension": ".py",
   "mimetype": "text/x-python",
   "name": "python",
   "nbconvert_exporter": "python",
   "pygments_lexer": "ipython3",
   "version": "3.8.8"
  }
 },
 "nbformat": 4,
 "nbformat_minor": 5
}
